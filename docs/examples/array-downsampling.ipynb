{
 "cells": [
  {
   "cell_type": "markdown",
   "id": "cdf469e7-0110-4b75-97d5-69c25aa290f5",
   "metadata": {},
   "source": [
    "# Array Downsampling\n",
    "\n",
    "This example demonstrates how to use the ArraySource1D to downsample a directly plotted array. i.e. `plt.plot(np.arange(0,10))`\n",
    "\n"
   ]
  },
  {
   "cell_type": "code",
   "execution_count": 1,
   "id": "4a694f4d-ba0d-4ea4-b15e-db17a2fa8e61",
   "metadata": {
    "execution": {
     "iopub.execute_input": "2022-01-27T22:45:24.547466Z",
     "iopub.status.busy": "2022-01-27T22:45:24.546857Z",
     "iopub.status.idle": "2022-01-27T22:45:25.243323Z",
     "shell.execute_reply": "2022-01-27T22:45:25.242700Z",
     "shell.execute_reply.started": "2022-01-27T22:45:24.547388Z"
    }
   },
   "outputs": [],
   "source": [
    "# for running in a notebook\n",
    "%matplotlib ipympl\n",
    "\n",
    "import matplotlib.pyplot as plt\n",
    "import numpy as np\n",
    "from matplotlib.widgets import Slider\n",
    "\n",
    "from mpl_line_downsampler import ArraySource1D, DSLine2D"
   ]
  },
  {
   "cell_type": "code",
   "execution_count": 2,
   "id": "3eabb266-4b64-4a84-8ab0-7f894519d2b1",
   "metadata": {
    "execution": {
     "iopub.execute_input": "2022-01-27T22:45:39.635448Z",
     "iopub.status.busy": "2022-01-27T22:45:39.634681Z",
     "iopub.status.idle": "2022-01-27T22:45:44.188223Z",
     "shell.execute_reply": "2022-01-27T22:45:44.187441Z",
     "shell.execute_reply.started": "2022-01-27T22:45:39.635358Z"
    }
   },
   "outputs": [],
   "source": [
    "# creating a very big array\n",
    "x = np.linspace(0, 1000, int(1e8))\n",
    "largeArray = np.sin(x) + np.sin(0.5 * x) + np.sin(0.01 * x)"
   ]
  },
  {
   "cell_type": "markdown",
   "id": "3bc2b71e-9bf5-4979-a891-9676b0414aaa",
   "metadata": {},
   "source": [
    "In the below cell you could do\n",
    "\n",
    "```python\n",
    "ax.plot(largeArray)\n",
    "```\n",
    "\n",
    "\n",
    "and then you would have to wait quite awhile and only end up with an unresponsive plot - or even crash matplotlib :O !"
   ]
  },
  {
   "cell_type": "code",
   "execution_count": null,
   "id": "d4517978-a830-40a2-bff2-05e5c6f1e996",
   "metadata": {},
   "outputs": [],
   "source": [
    "fig, ax = plt.subplots()\n",
    "\n",
    "\n",
    "# don't do this\n",
    "# ax.plot(largeArray)\n",
    "\n",
    "# do this instead\n",
    "down_sampler = ArraySource1D(largeArray, scale=10)\n",
    "line = DSLine2D(down_sampler)\n",
    "\n",
    "ax.add_artist(line)\n",
    "# our artist doesn't automatically set the limits of the plot\n",
    "# so do it manually\n",
    "ax.set_xlim([0, len(largeArray)])\n",
    "ax.set_ylim(largeArray.min(), largeArray.max())\n",
    "\n",
    "\n",
    "# Make a slider to control the downsampling factor\n",
    "plt.subplots_adjust(bottom=0.25)\n",
    "slider_ax = plt.axes([0.25, 0.1, 0.65, 0.03])\n",
    "scale_slider = Slider(\n",
    "    ax=slider_ax,\n",
    "    label=\"Downscale factor\",\n",
    "    valmin=10,  # don't go to 1 - slows everything down\n",
    "    valmax=10000,\n",
    "    valinit=10,\n",
    "    valstep=1,\n",
    ")\n",
    "scale_slider.drawon = False  # we will draw in our update\n",
    "\n",
    "\n",
    "def update_scale(scale: int):\n",
    "    down_sampler.scale = scale\n",
    "    fig.canvas.draw()\n",
    "\n",
    "\n",
    "scale_slider.on_changed(update_scale)"
   ]
  }
 ],
 "metadata": {
  "kernelspec": {
   "display_name": "Python 3 (ipykernel)",
   "language": "python",
   "name": "python3"
  },
  "language_info": {
   "codemirror_mode": {
    "name": "ipython",
    "version": 3
   },
   "file_extension": ".py",
   "mimetype": "text/x-python",
   "name": "python",
   "nbconvert_exporter": "python",
   "pygments_lexer": "ipython3",
   "version": "3.9.7"
  },
  "widgets": {
   "application/vnd.jupyter.widget-state+json": {
    "state": {},
    "version_major": 2,
    "version_minor": 0
   }
  }
 },
 "nbformat": 4,
 "nbformat_minor": 5
}
